{
 "cells": [
  {
   "cell_type": "markdown",
   "metadata": {},
   "source": [
    "# Migrating workflows from KNIX to AWS Stepfunctions\n",
    "\n",
    "KNIX is compatible with AWS Lambda and Step Functions with expanded support for sophisticated parallel executions.\n",
    "\n",
    "## Goal for this Notebook:\n",
    "Show a simple example of migrating a sample workflow in Python, using SDKs provided for both AWS and KNIX. This is aimed for those looking to get into the field or those who are already in the field and looking to see an example how to move existing workflows between AWS and KNIX.\n",
    "\n",
    "### This Notebook will show basic examples of:\n",
    "* Importing SDKs\n",
    "* Generating and using SDK objects\n",
    "* converting KNIX names to valid ARNs\n",
    "* Importing and exporting worflow and function definitions\n",
    "\n",
    "### Required Libraries:\n",
    "* [json] (http://www.json.org/)\n",
    "* [zipfile] (https://docs.python.org/3/library/zipfile)\n",
    "\n",
    "### Things to remember:\n",
    "* In Step-Functions workflow descriptions, 'Resource' ARN needs to be changed into real Lambda ARNs. This can be achieved by prepending a fixed, user-specific prefix of the form of \"arn:aws:lambda:eu-central-1:123456789012:function:\" . Note this step does not require any change in user code.\n",
    "\n",
    "* In Lambda,  function handler needs to be configured when creating the function. In KNIX the function handler name must always be called \"handle\". Note this step does not require changing user code.\n",
    "\n",
    "* KNIX users should put the libraries that they would like to be part of LD_LIBRARY_PATH in a ./lib/ folder, which is inside their deployment zip and sits parallel to their fuction code (referring to the .py file that has the 'handle' method)\n",
    "\n",
    "* In KNIX, if user's deployment zip contains ELF executable binaries that can be invoked from the python code (using the subprocess module), then these binaries should be invoked using their complete path, and not via symbolic links to them.\n",
    "\n",
    "* User code in Lambda is only allowed to create files in /tmp, whereas, in KNIX the entire filesystem is writable.\n",
    "\n",
    "\n",
    "## Now let's start to migrate a workflow from KNIX to AWS. \n",
    "\n",
    "First, install the required AWS SDK. Please note that you need to configure your credentials for using this SDK, e.g by adding your credentials to ~/.aws/config:\n"
   ]
  },
  {
   "cell_type": "code",
   "execution_count": 1,
   "metadata": {},
   "outputs": [
    {
     "name": "stdout",
     "output_type": "stream",
     "text": [
      "Collecting boto3\n",
      "  Using cached https://files.pythonhosted.org/packages/8f/47/fd52106b41769acac53dfe1923bb363d6e4cc583a3a951c54a85a415593f/boto3-1.14.1-py2.py3-none-any.whl\n",
      "Collecting botocore<1.18.0,>=1.17.1 (from boto3)\n",
      "Collecting s3transfer<0.4.0,>=0.3.0 (from boto3)\n",
      "  Using cached https://files.pythonhosted.org/packages/69/79/e6afb3d8b0b4e96cefbdc690f741d7dd24547ff1f94240c997a26fa908d3/s3transfer-0.3.3-py2.py3-none-any.whl\n",
      "Collecting jmespath<1.0.0,>=0.7.1 (from boto3)\n",
      "  Using cached https://files.pythonhosted.org/packages/07/cb/5f001272b6faeb23c1c9e0acc04d48eaaf5c862c17709d20e3469c6e0139/jmespath-0.10.0-py2.py3-none-any.whl\n",
      "Collecting docutils<0.16,>=0.10 (from botocore<1.18.0,>=1.17.1->boto3)\n",
      "  Using cached https://files.pythonhosted.org/packages/22/cd/a6aa959dca619918ccb55023b4cb151949c64d4d5d55b3f4ffd7eee0c6e8/docutils-0.15.2-py3-none-any.whl\n",
      "Collecting urllib3<1.26,>=1.20; python_version != \"3.4\" (from botocore<1.18.0,>=1.17.1->boto3)\n",
      "  Using cached https://files.pythonhosted.org/packages/e1/e5/df302e8017440f111c11cc41a6b432838672f5a70aa29227bf58149dc72f/urllib3-1.25.9-py2.py3-none-any.whl\n",
      "Collecting python-dateutil<3.0.0,>=2.1 (from botocore<1.18.0,>=1.17.1->boto3)\n",
      "  Using cached https://files.pythonhosted.org/packages/d4/70/d60450c3dd48ef87586924207ae8907090de0b306af2bce5d134d78615cb/python_dateutil-2.8.1-py2.py3-none-any.whl\n",
      "Collecting six>=1.5 (from python-dateutil<3.0.0,>=2.1->botocore<1.18.0,>=1.17.1->boto3)\n",
      "  Using cached https://files.pythonhosted.org/packages/ee/ff/48bde5c0f013094d729fe4b0316ba2a24774b3ff1c52d924a8a4cb04078a/six-1.15.0-py2.py3-none-any.whl\n",
      "Installing collected packages: docutils, jmespath, urllib3, six, python-dateutil, botocore, s3transfer, boto3\n",
      "Successfully installed boto3-1.14.1 botocore-1.17.1 docutils-0.16 jmespath-0.10.0 python-dateutil-2.8.1 s3transfer-0.3.3 six-1.15.0 urllib3-1.25.9\n",
      "Note: you may need to restart the kernel to use updated packages.\n"
     ]
    }
   ],
   "source": [
    "pip install boto3"
   ]
  },
  {
   "cell_type": "markdown",
   "metadata": {},
   "source": [
    "Now import the required librares:"
   ]
  },
  {
   "cell_type": "code",
   "execution_count": 2,
   "metadata": {},
   "outputs": [],
   "source": [
    "import json\n",
    "from zipfile import ZipFile\n",
    "from mfn_sdk import MfnClient\n",
    "import boto3\n",
    "from botocore.exceptions import ClientError"
   ]
  },
  {
   "cell_type": "markdown",
   "metadata": {},
   "source": [
    "get a boto3 client object for the StepFunctions service:"
   ]
  },
  {
   "cell_type": "code",
   "execution_count": 3,
   "metadata": {},
   "outputs": [],
   "source": [
    "client_sf = boto3.client('stepfunctions')"
   ]
  },
  {
   "cell_type": "markdown",
   "metadata": {},
   "source": [
    "get a boto3 client object for the Identity and Access Management service:"
   ]
  },
  {
   "cell_type": "code",
   "execution_count": 4,
   "metadata": {},
   "outputs": [],
   "source": [
    "# Create IAM client\n",
    "iam = boto3.client('iam')"
   ]
  },
  {
   "cell_type": "markdown",
   "metadata": {},
   "source": [
    "create an execution role for the AWS Stepfunctions service "
   ]
  },
  {
   "cell_type": "code",
   "execution_count": 32,
   "metadata": {},
   "outputs": [
    {
     "name": "stdout",
     "output_type": "stream",
     "text": [
      "arn:aws:iam::218181671562:role/service-role/tutorialStepFunctionsPolicy\n"
     ]
    },
    {
     "data": {
      "text/plain": [
       "'    \\n#if e.response[\\'Error\\'][\\'Code\\'] == \"EntityAlreadyExistsException\":\\n#    print(\"Error: State Machine already exists at AWS Stepfunctions\")\\n#    response = iam.get_role(RoleName=\\'tutorialStepFunctionsPolicy\\')\\n\\n\\n# Create a policy to allow Stepfunctions to execute Lambda functions\\ntry: \\n    response = iam.create_role(\\n        Path=\\'/service-role/\\',\\n        RoleName=\\'tutorialStepFunctionsPolicy\\', \\n        AssumeRolePolicyDocument=\\'{\"Version\": \"2012-10-17\", \"Statement\": [{\"Effect\": \"Allow\", \"Principal\": {\"Service\": \"states.eu-central-1.amazonaws.com\"}, \"Action\": \"sts:AssumeRole\"}]}\\',\\n        Description=\\'KNIX migration tutorial\\',\\n        MaxSessionDuration=3600)\\nexcept ClientError as e:\\n    if e.response[\\'Error\\'][\\'Code\\'] == \"EntityAlreadyExistsException\":\\n        print(\"Error: State Machine already exists at AWS Stepfunctions\")\\n        response = iam.get_role(RoleName=\\'tutorialStepFunctionsPolicy\\')\\n\\n#\"EntityAlreadyExistsException\":\\n#    repsponse = iam.get_role(\\'tutorialStepFunctionsPolicy\\')\\n'"
      ]
     },
     "execution_count": 32,
     "metadata": {},
     "output_type": "execute_result"
    }
   ],
   "source": [
    "try: \n",
    "    response = iam.get_role(RoleName='tutorialStepFunctionsPolicy')\n",
    "    print(response['Role']['Arn'])\n",
    "    awsSfRoleArn  = response['Role']['Arn']\n",
    "except ClientError as e:\n",
    "    print(e)\n",
    "    response = iam.create_role(\n",
    "        Path='/service-role/',\n",
    "        RoleName='tutorialStepFunctionsPolicy', \n",
    "        AssumeRolePolicyDocument='{\"Version\": \"2012-10-17\", \"Statement\": [{\"Effect\": \"Allow\", \"Principal\": {\"Service\": \"states.eu-central-1.amazonaws.com\"}, \"Action\": \"sts:AssumeRole\"}]}',\n",
    "        Description='KNIX migration tutorial',\n",
    "        MaxSessionDuration=3600)\n",
    "    awsSfRoleArn  = response['Role']['Arn']\n",
    "    \n",
    "\"\"\"    \n",
    "#if e.response['Error']['Code'] == \"EntityAlreadyExistsException\":\n",
    "#    print(\"Error: State Machine already exists at AWS Stepfunctions\")\n",
    "#    response = iam.get_role(RoleName='tutorialStepFunctionsPolicy')\n",
    "\n",
    "\n",
    "# Create a policy to allow Stepfunctions to execute Lambda functions\n",
    "try: \n",
    "    response = iam.create_role(\n",
    "        Path='/service-role/',\n",
    "        RoleName='tutorialStepFunctionsPolicy', \n",
    "        AssumeRolePolicyDocument='{\"Version\": \"2012-10-17\", \"Statement\": [{\"Effect\": \"Allow\", \"Principal\": {\"Service\": \"states.eu-central-1.amazonaws.com\"}, \"Action\": \"sts:AssumeRole\"}]}',\n",
    "        Description='KNIX migration tutorial',\n",
    "        MaxSessionDuration=3600)\n",
    "except ClientError as e:\n",
    "    if e.response['Error']['Code'] == \"EntityAlreadyExistsException\":\n",
    "        print(\"Error: State Machine already exists at AWS Stepfunctions\")\n",
    "        response = iam.get_role(RoleName='tutorialStepFunctionsPolicy')\n",
    "\n",
    "#\"EntityAlreadyExistsException\":\n",
    "#    repsponse = iam.get_role('tutorialStepFunctionsPolicy')\n",
    "\"\"\""
   ]
  },
  {
   "cell_type": "code",
   "execution_count": 33,
   "metadata": {},
   "outputs": [
    {
     "name": "stdout",
     "output_type": "stream",
     "text": [
      "{'Role': {'Path': '/service-role/', 'RoleName': 'tutorialStepFunctionsPolicy', 'RoleId': 'AROATFTFEDKFHBSEQUJ64', 'Arn': 'arn:aws:iam::218181671562:role/service-role/tutorialStepFunctionsPolicy', 'CreateDate': datetime.datetime(2020, 6, 12, 11, 18, 12, tzinfo=tzutc()), 'AssumeRolePolicyDocument': {'Version': '2012-10-17', 'Statement': [{'Effect': 'Allow', 'Principal': {'Service': 'states.eu-central-1.amazonaws.com'}, 'Action': 'sts:AssumeRole'}]}, 'Description': 'KNIX migration tutorial', 'MaxSessionDuration': 3600, 'RoleLastUsed': {}}, 'ResponseMetadata': {'RequestId': '0886a3d2-5fb2-490a-a8ed-25be171a4806', 'HTTPStatusCode': 200, 'HTTPHeaders': {'x-amzn-requestid': '0886a3d2-5fb2-490a-a8ed-25be171a4806', 'content-type': 'text/xml', 'content-length': '939', 'date': 'Fri, 12 Jun 2020 11:54:40 GMT'}, 'RetryAttempts': 2}}\n"
     ]
    }
   ],
   "source": [
    "print(str(response))\n",
    "awsSfRoleArn = response['Role']['Arn']"
   ]
  },
  {
   "cell_type": "code",
   "execution_count": 34,
   "metadata": {},
   "outputs": [
    {
     "name": "stdout",
     "output_type": "stream",
     "text": [
      "arn:aws:iam::218181671562:role/service-role/tutorialStepFunctionsPolicy\n"
     ]
    }
   ],
   "source": [
    "print(awsSfRoleArn)"
   ]
  },
  {
   "cell_type": "markdown",
   "metadata": {},
   "source": [
    "Now use your credentials to get a knix client object:"
   ]
  },
  {
   "cell_type": "code",
   "execution_count": 35,
   "metadata": {},
   "outputs": [],
   "source": [
    "client_mfn = MfnClient(\n",
    "    #mfn_url=\"http://knix.io/mfn\",\n",
    "    mfn_url=\"http://localhost:8080\",\n",
    "    mfn_user=\"mfn@mfn\",\n",
    "    mfn_password=\"mfn\",\n",
    "    mfn_name=\"KS\",\n",
    "    proxies={\"http_proxy\": \"None\", \"https_proxy\": \"None\"}\n",
    "    )"
   ]
  },
  {
   "cell_type": "markdown",
   "metadata": {},
   "source": [
    "We need a few parameters to prepare the data access to AWS services suchas as Lambda and Stepfunctions:\n",
    "* lambdaprefix: the ARN name prefix for AWS Lambda functions\n",
    "* awsSfRoleName: the name (ARN) allowing the boto3 client to access the the AWS Stepfunctions service\n",
    "* knixWfName: the name of the source workflow on KNIX\n",
    "* sfWFName: the name of the target workflow on AWS Stepfunctions"
   ]
  },
  {
   "cell_type": "code",
   "execution_count": 36,
   "metadata": {},
   "outputs": [],
   "source": [
    "user_id = str(boto3.resource('iam').CurrentUser().arn.split(\":\")[4])\n",
    "lambdaPrefix = \"arn:aws:lambda:eu-central-1:%s:function:\" % user_id \n",
    "awsSfRoleName = awsSfRoleArn # \"arn:aws:iam::218181671562:role/service-role/StatesExecutionRole-eu-central-1\" \n",
    "sfWFName = \"CallCenterStateMachine\"\n",
    "knixWfName = \"test_wf_knix\" # \"workflow_task_chain_test\" "
   ]
  },
  {
   "cell_type": "code",
   "execution_count": 37,
   "metadata": {},
   "outputs": [],
   "source": [
    "for w in client_mfn.workflows:\n",
    "    if w.name == knixWfName:\n",
    "       knixWf = w.json\n",
    "    else:\n",
    "        raise Exception(\"Error: knix workflow not found!\")"
   ]
  },
  {
   "cell_type": "markdown",
   "metadata": {},
   "source": [
    "Now, knixWf contains the source workflow definition, now lets get the corresponding KNIX Function definitions. The names of these functions need to be translated to valid ARNs for the transfer to AWS StepFunctions using a name prefix.   "
   ]
  },
  {
   "cell_type": "code",
   "execution_count": 38,
   "metadata": {},
   "outputs": [
    {
     "name": "stdout",
     "output_type": "stream",
     "text": [
      "Processing test_wf_knix ... \n",
      "arn:aws:lambda:eu-central-1:218181671562:function:AssignCaseFunction\n",
      "arn:aws:lambda:eu-central-1:218181671562:function:CloseCaseFunction\n",
      "arn:aws:lambda:eu-central-1:218181671562:function:EscalateCaseFunction\n",
      "processing Non-Task state\n",
      "processing Non-Task state\n",
      "arn:aws:lambda:eu-central-1:218181671562:function:OpenCaseFunction\n",
      "arn:aws:lambda:eu-central-1:218181671562:function:WorkOnCaseFunction\n"
     ]
    }
   ],
   "source": [
    "knixWf = json.loads(knixWf)\n",
    "print(\"Processing %s ... \" % knixWfName)\n",
    "\n",
    "for att, val in knixWf['States'].items():\n",
    "    if \"Resource\" in list(val.keys()):\n",
    "        val['Resource'] =  lambdaPrefix + val['Resource']\n",
    "        print (val['Resource'])\n",
    "    else:\n",
    "        print(\"processing Non-Task state\")\n",
    "        #print(str(val))\n",
    "        #val = val\n",
    "        pass"
   ]
  },
  {
   "cell_type": "markdown",
   "metadata": {},
   "source": [
    "Let's check the resulting StepFunctions workflow definition json before uploading it to AWS:"
   ]
  },
  {
   "cell_type": "code",
   "execution_count": 39,
   "metadata": {},
   "outputs": [
    {
     "name": "stdout",
     "output_type": "stream",
     "text": [
      "{\n",
      "      \"Comment\": \"A simple AWS Step Functions state machine that automates a call center support session.\",\n",
      "      \"StartAt\": \"OpenCaseFunction\",\n",
      "      \"States\": {\n",
      "            \"AssignCaseFunction\": {\n",
      "                  \"Next\": \"WorkOnCaseFunction\",\n",
      "                  \"Resource\": \"arn:aws:lambda:eu-central-1:218181671562:function:AssignCaseFunction\",\n",
      "                  \"Type\": \"Task\"\n",
      "            },\n",
      "            \"CloseCaseFunction\": {\n",
      "                  \"End\": true,\n",
      "                  \"Resource\": \"arn:aws:lambda:eu-central-1:218181671562:function:CloseCaseFunction\",\n",
      "                  \"Type\": \"Task\"\n",
      "            },\n",
      "            \"EscalateCaseFunction\": {\n",
      "                  \"Next\": \"Fail\",\n",
      "                  \"Resource\": \"arn:aws:lambda:eu-central-1:218181671562:function:EscalateCaseFunction\",\n",
      "                  \"Type\": \"Task\"\n",
      "            },\n",
      "            \"Fail\": {\n",
      "                  \"Cause\": \"Engage Tier 2 Support.\",\n",
      "                  \"Type\": \"Fail\"\n",
      "            },\n",
      "            \"IsCaseResolved\": {\n",
      "                  \"Choices\": [\n",
      "                        {\n",
      "                              \"Next\": \"CloseCaseFunction\",\n",
      "                              \"NumericEquals\": 1,\n",
      "                              \"Variable\": \"$.Status\"\n",
      "                        },\n",
      "                        {\n",
      "                              \"Next\": \"EscalateCaseFunction\",\n",
      "                              \"NumericEquals\": 0,\n",
      "                              \"Variable\": \"$.Status\"\n",
      "                        }\n",
      "                  ],\n",
      "                  \"Type\": \"Choice\"\n",
      "            },\n",
      "            \"OpenCaseFunction\": {\n",
      "                  \"Next\": \"AssignCaseFunction\",\n",
      "                  \"Resource\": \"arn:aws:lambda:eu-central-1:218181671562:function:OpenCaseFunction\",\n",
      "                  \"Type\": \"Task\"\n",
      "            },\n",
      "            \"WorkOnCaseFunction\": {\n",
      "                  \"Next\": \"IsCaseResolved\",\n",
      "                  \"Resource\": \"arn:aws:lambda:eu-central-1:218181671562:function:WorkOnCaseFunction\",\n",
      "                  \"Type\": \"Task\"\n",
      "            }\n",
      "      }\n",
      "}\n"
     ]
    }
   ],
   "source": [
    "sf_def = json.dumps(knixWf, indent = 6)\n",
    "print(sf_def)"
   ]
  },
  {
   "cell_type": "markdown",
   "metadata": {},
   "source": [
    "Now let's upload the definition using the boto3 client object using the roleArn parameter defined previously. Generate an error  if the name already exists. "
   ]
  },
  {
   "cell_type": "code",
   "execution_count": 40,
   "metadata": {},
   "outputs": [],
   "source": [
    "try:\n",
    "  client_sf.create_state_machine(\n",
    "   name=sfWFName,\n",
    "   roleArn=awsSfRoleName,\n",
    "   definition=sf_def)\n",
    "\n",
    "except ClientError as e:\n",
    "    if e.response['Error']['Code'] == 'StateMachineAlreadyExists':\n",
    "        print(\"Error: State Machine already exists at AWS Stepfunctions\")\n",
    "    else:\n",
    "        print(\"Unexpected error: %s\" % e)"
   ]
  },
  {
   "cell_type": "markdown",
   "metadata": {},
   "source": [
    "Now list all state machines for this account:"
   ]
  },
  {
   "cell_type": "code",
   "execution_count": 41,
   "metadata": {},
   "outputs": [
    {
     "name": "stdout",
     "output_type": "stream",
     "text": [
      "all published machines: \n",
      "CallCenterStateMachine\n",
      "ChainStateMachine\n",
      "ChoiceStateWithComplexCondition\n",
      "Helloworld\n",
      "Imported_from_SAND\n",
      "Iterate_over_array\n",
      "Komplex_und_verschachtelt\n",
      "Motivational_Chain\n",
      "MyExpressStateMachine\n",
      "MyStateMachine\n",
      "MyStateMachine_EquivalentParallel\n",
      "MyTestChain1\n",
      "RO-Test1\n",
      "SAND_Motivational_Test\n",
      "SandTest\n",
      "SandTest2\n",
      "complex_with_not\n",
      "hh_test\n",
      "inputpath_outputpath_resultpath_test\n",
      "knixWorkflowName\n",
      "knix_workflow_task_chain_test\n",
      "looptest\n",
      "myIteration\n",
      "myMotivationalSFN\n",
      "myMotivationalSFN1\n",
      "myMotivationalSFN2\n",
      "myMotivationalSFN3\n",
      "myMotivationalSFN4\n",
      "myMotivationalSFN5\n",
      "nestedstatemachine\n",
      "parallel-states-fail\n",
      "parallel-states-success\n",
      "parallel_state_test\n",
      "parallel_timers\n",
      "sand2sf_pipeline\n",
      "state_machine\n",
      "state_machine_definition\n",
      "succeedtest\n",
      "test\n",
      "test_ASL\n",
      "test_parallel_workflow\n",
      "test_sand_migration\n",
      "test_sand_migration_sdk\n",
      "testcatchretry\n",
      "twochoices\n",
      "wait_test\n",
      "wf_ASL\n",
      "wf_echo\n"
     ]
    }
   ],
   "source": [
    "stateMachines = client_sf.list_state_machines()\n",
    "print(\"all published machines: \")\n",
    "for sm in stateMachines['stateMachines']:\n",
    "   print(sm['name']) #"
   ]
  },
  {
   "cell_type": "markdown",
   "metadata": {},
   "source": [
    "Now execute the state machine"
   ]
  },
  {
   "cell_type": "code",
   "execution_count": 47,
   "metadata": {},
   "outputs": [],
   "source": [
    "response = client_sf.start_execution(\n",
    "    stateMachineArn=\"arn:aws:states:eu-central-1:218181671562:stateMachine:CallCenterStateMachine\", #% (user_id, sfWFName),\n",
    "    input='{\\\"inputCaseID\\\" : \\\"001\\\"}'\n",
    ")"
   ]
  },
  {
   "cell_type": "code",
   "execution_count": 48,
   "metadata": {},
   "outputs": [
    {
     "name": "stdout",
     "output_type": "stream",
     "text": [
      "{'executionArn': 'arn:aws:states:eu-central-1:218181671562:execution:CallCenterStateMachine:4f603756-a666-4c67-931d-cd9123e18eed', 'startDate': datetime.datetime(2020, 6, 12, 13, 55, 13, 123000, tzinfo=tzlocal()), 'ResponseMetadata': {'RequestId': 'c3574f24-ab9d-40ac-916b-b7267f7cbe79', 'HTTPStatusCode': 200, 'HTTPHeaders': {'x-amzn-requestid': 'c3574f24-ab9d-40ac-916b-b7267f7cbe79', 'content-type': 'application/x-amz-json-1.0', 'content-length': '158'}, 'RetryAttempts': 0}}\n"
     ]
    }
   ],
   "source": [
    "print(response)"
   ]
  },
  {
   "cell_type": "code",
   "execution_count": 49,
   "metadata": {},
   "outputs": [],
   "source": [
    "executionArn = response['executionArn']"
   ]
  },
  {
   "cell_type": "code",
   "execution_count": 52,
   "metadata": {},
   "outputs": [],
   "source": [
    "response = client_sf.get_execution_history(executionArn=executionArn)"
   ]
  },
  {
   "cell_type": "code",
   "execution_count": 57,
   "metadata": {},
   "outputs": [
    {
     "name": "stdout",
     "output_type": "stream",
     "text": [
      "{'events': [{'timestamp': datetime.datetime(2020, 6, 12, 13, 55, 13, 123000, tzinfo=tzlocal()), 'type': 'ExecutionStarted', 'id': 1, 'previousEventId': 0, 'executionStartedEventDetails': {'input': '{\"inputCaseID\" : \"001\"}', 'roleArn': 'arn:aws:iam::218181671562:role/service-role/StatesExecutionRole-eu-central-1'}}, {'timestamp': datetime.datetime(2020, 6, 12, 13, 55, 13, 146000, tzinfo=tzlocal()), 'type': 'TaskStateEntered', 'id': 2, 'previousEventId': 0, 'stateEnteredEventDetails': {'name': 'OpenCaseFunction', 'input': '{\"inputCaseID\" : \"001\"}'}}, {'timestamp': datetime.datetime(2020, 6, 12, 13, 55, 13, 146000, tzinfo=tzlocal()), 'type': 'LambdaFunctionScheduled', 'id': 3, 'previousEventId': 2, 'lambdaFunctionScheduledEventDetails': {'resource': 'arn:aws:lambda:eu-central-1:218181671562:function:OpenCaseFunction', 'input': '{\"inputCaseID\" : \"001\"}'}}, {'timestamp': datetime.datetime(2020, 6, 12, 13, 55, 13, 172000, tzinfo=tzlocal()), 'type': 'LambdaFunctionStarted', 'id': 4, 'previousEventId': 3}, {'timestamp': datetime.datetime(2020, 6, 12, 13, 55, 13, 215000, tzinfo=tzlocal()), 'type': 'LambdaFunctionSucceeded', 'id': 5, 'previousEventId': 4, 'lambdaFunctionSucceededEventDetails': {'output': '{\"Case\": \"001\", \"Message\": \"Case 001: opened...\"}'}}, {'timestamp': datetime.datetime(2020, 6, 12, 13, 55, 13, 215000, tzinfo=tzlocal()), 'type': 'TaskStateExited', 'id': 6, 'previousEventId': 5, 'stateExitedEventDetails': {'name': 'OpenCaseFunction', 'output': '{\"Case\": \"001\", \"Message\": \"Case 001: opened...\"}'}}, {'timestamp': datetime.datetime(2020, 6, 12, 13, 55, 13, 300000, tzinfo=tzlocal()), 'type': 'TaskStateEntered', 'id': 7, 'previousEventId': 6, 'stateEnteredEventDetails': {'name': 'AssignCaseFunction', 'input': '{\"Case\": \"001\", \"Message\": \"Case 001: opened...\"}'}}, {'timestamp': datetime.datetime(2020, 6, 12, 13, 55, 13, 300000, tzinfo=tzlocal()), 'type': 'LambdaFunctionScheduled', 'id': 8, 'previousEventId': 7, 'lambdaFunctionScheduledEventDetails': {'resource': 'arn:aws:lambda:eu-central-1:218181671562:function:AssignCaseFunction', 'input': '{\"Case\": \"001\", \"Message\": \"Case 001: opened...\"}'}}, {'timestamp': datetime.datetime(2020, 6, 12, 13, 55, 13, 308000, tzinfo=tzlocal()), 'type': 'LambdaFunctionStarted', 'id': 9, 'previousEventId': 8}, {'timestamp': datetime.datetime(2020, 6, 12, 13, 55, 13, 339000, tzinfo=tzlocal()), 'type': 'LambdaFunctionSucceeded', 'id': 10, 'previousEventId': 9, 'lambdaFunctionSucceededEventDetails': {'output': '{\"Case\": \"001\", \"Message\": \"Case 001: opened...assigned...\"}'}}, {'timestamp': datetime.datetime(2020, 6, 12, 13, 55, 13, 339000, tzinfo=tzlocal()), 'type': 'TaskStateExited', 'id': 11, 'previousEventId': 10, 'stateExitedEventDetails': {'name': 'AssignCaseFunction', 'output': '{\"Case\": \"001\", \"Message\": \"Case 001: opened...assigned...\"}'}}, {'timestamp': datetime.datetime(2020, 6, 12, 13, 55, 13, 400000, tzinfo=tzlocal()), 'type': 'TaskStateEntered', 'id': 12, 'previousEventId': 11, 'stateEnteredEventDetails': {'name': 'WorkOnCaseFunction', 'input': '{\"Case\": \"001\", \"Message\": \"Case 001: opened...assigned...\"}'}}, {'timestamp': datetime.datetime(2020, 6, 12, 13, 55, 13, 400000, tzinfo=tzlocal()), 'type': 'LambdaFunctionScheduled', 'id': 13, 'previousEventId': 12, 'lambdaFunctionScheduledEventDetails': {'resource': 'arn:aws:lambda:eu-central-1:218181671562:function:WorkOnCaseFunction', 'input': '{\"Case\": \"001\", \"Message\": \"Case 001: opened...assigned...\"}'}}, {'timestamp': datetime.datetime(2020, 6, 12, 13, 55, 13, 408000, tzinfo=tzlocal()), 'type': 'LambdaFunctionStarted', 'id': 14, 'previousEventId': 13}, {'timestamp': datetime.datetime(2020, 6, 12, 13, 55, 13, 444000, tzinfo=tzlocal()), 'type': 'LambdaFunctionSucceeded', 'id': 15, 'previousEventId': 14, 'lambdaFunctionSucceededEventDetails': {'output': '{\"Case\": \"001\", \"Status\": 0, \"Message\": \"Case 001: opened...assigned...unresolved...\"}'}}, {'timestamp': datetime.datetime(2020, 6, 12, 13, 55, 13, 444000, tzinfo=tzlocal()), 'type': 'TaskStateExited', 'id': 16, 'previousEventId': 15, 'stateExitedEventDetails': {'name': 'WorkOnCaseFunction', 'output': '{\"Case\": \"001\", \"Status\": 0, \"Message\": \"Case 001: opened...assigned...unresolved...\"}'}}, {'timestamp': datetime.datetime(2020, 6, 12, 13, 55, 13, 500000, tzinfo=tzlocal()), 'type': 'ChoiceStateEntered', 'id': 17, 'previousEventId': 16, 'stateEnteredEventDetails': {'name': 'IsCaseResolved', 'input': '{\"Case\": \"001\", \"Status\": 0, \"Message\": \"Case 001: opened...assigned...unresolved...\"}'}}, {'timestamp': datetime.datetime(2020, 6, 12, 13, 55, 13, 500000, tzinfo=tzlocal()), 'type': 'ChoiceStateExited', 'id': 18, 'previousEventId': 17, 'stateExitedEventDetails': {'name': 'IsCaseResolved', 'output': '{\"Case\": \"001\", \"Status\": 0, \"Message\": \"Case 001: opened...assigned...unresolved...\"}'}}, {'timestamp': datetime.datetime(2020, 6, 12, 13, 55, 13, 601000, tzinfo=tzlocal()), 'type': 'TaskStateEntered', 'id': 19, 'previousEventId': 18, 'stateEnteredEventDetails': {'name': 'EscalateCaseFunction', 'input': '{\"Case\": \"001\", \"Status\": 0, \"Message\": \"Case 001: opened...assigned...unresolved...\"}'}}, {'timestamp': datetime.datetime(2020, 6, 12, 13, 55, 13, 601000, tzinfo=tzlocal()), 'type': 'LambdaFunctionScheduled', 'id': 20, 'previousEventId': 19, 'lambdaFunctionScheduledEventDetails': {'resource': 'arn:aws:lambda:eu-central-1:218181671562:function:EscalateCaseFunction', 'input': '{\"Case\": \"001\", \"Status\": 0, \"Message\": \"Case 001: opened...assigned...unresolved...\"}'}}, {'timestamp': datetime.datetime(2020, 6, 12, 13, 55, 13, 609000, tzinfo=tzlocal()), 'type': 'LambdaFunctionStarted', 'id': 21, 'previousEventId': 20}, {'timestamp': datetime.datetime(2020, 6, 12, 13, 55, 13, 653000, tzinfo=tzlocal()), 'type': 'LambdaFunctionSucceeded', 'id': 22, 'previousEventId': 21, 'lambdaFunctionSucceededEventDetails': {'output': '{\"Case\": \"001\", \"Status\": 0, \"Message\": \"Case 001: opened...assigned...unresolved...escalating.\"}'}}, {'timestamp': datetime.datetime(2020, 6, 12, 13, 55, 13, 653000, tzinfo=tzlocal()), 'type': 'TaskStateExited', 'id': 23, 'previousEventId': 22, 'stateExitedEventDetails': {'name': 'EscalateCaseFunction', 'output': '{\"Case\": \"001\", \"Status\": 0, \"Message\": \"Case 001: opened...assigned...unresolved...escalating.\"}'}}, {'timestamp': datetime.datetime(2020, 6, 12, 13, 55, 13, 702000, tzinfo=tzlocal()), 'type': 'FailStateEntered', 'id': 24, 'previousEventId': 23, 'stateEnteredEventDetails': {'name': 'Fail', 'input': '{\"Case\": \"001\", \"Status\": 0, \"Message\": \"Case 001: opened...assigned...unresolved...escalating.\"}'}}, {'timestamp': datetime.datetime(2020, 6, 12, 13, 55, 13, 702000, tzinfo=tzlocal()), 'type': 'ExecutionFailed', 'id': 25, 'previousEventId': 24, 'executionFailedEventDetails': {'cause': 'Engage Tier 2 Support.'}}], 'ResponseMetadata': {'RequestId': 'd7a9ca0c-ffe5-4d61-b28d-a1c15d077440', 'HTTPStatusCode': 200, 'HTTPHeaders': {'x-amzn-requestid': 'd7a9ca0c-ffe5-4d61-b28d-a1c15d077440', 'content-type': 'application/x-amz-json-1.0', 'content-length': '6672'}, 'RetryAttempts': 0}}\n",
      "{\"Case\": \"001\", \"Message\": \"Case 001: opened...\"}\n",
      "{\"Case\": \"001\", \"Message\": \"Case 001: opened...assigned...\"}\n",
      "{\"Case\": \"001\", \"Status\": 0, \"Message\": \"Case 001: opened...assigned...unresolved...\"}\n",
      "{\"Case\": \"001\", \"Status\": 0, \"Message\": \"Case 001: opened...assigned...unresolved...\"}\n",
      "{\"Case\": \"001\", \"Status\": 0, \"Message\": \"Case 001: opened...assigned...unresolved...escalating.\"}\n"
     ]
    }
   ],
   "source": [
    "print(response)\n",
    "for ev in response['events']:\n",
    "        #if \"lambdaFunctionSucceededEventDetails\" in ev:\n",
    "        if \"stateExitedEventDetails\" in ev:\n",
    "            print(str(ev[\"stateExitedEventDetails\"][\"output\"]))\n",
    "            #print (str(ev['lambdaFunctionSucceededEventDetails']['output']))"
   ]
  },
  {
   "cell_type": "code",
   "execution_count": null,
   "metadata": {},
   "outputs": [],
   "source": []
  },
  {
   "cell_type": "code",
   "execution_count": null,
   "metadata": {},
   "outputs": [],
   "source": []
  }
 ],
 "metadata": {
  "kernelspec": {
   "display_name": "Python 3",
   "language": "python",
   "name": "python3"
  },
  "language_info": {
   "codemirror_mode": {
    "name": "ipython",
    "version": 3
   },
   "file_extension": ".py",
   "mimetype": "text/x-python",
   "name": "python",
   "nbconvert_exporter": "python",
   "pygments_lexer": "ipython3",
   "version": "3.6.9"
  }
 },
 "nbformat": 4,
 "nbformat_minor": 4
}
